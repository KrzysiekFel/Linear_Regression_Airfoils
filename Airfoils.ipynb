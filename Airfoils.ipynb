{
 "cells": [
  {
   "cell_type": "markdown",
   "id": "74ca37cc",
   "metadata": {},
   "source": [
    "Data Set Information:\n",
    "\n",
    "The NASA data set comprises different size NACA 0012 airfoils at various wind tunnel speeds and angles of attack. The span of the airfoil and the observer position were the same in all of the experiments.\n",
    "\n",
    "\n",
    "Attribute Information:\n",
    "\n",
    "This problem has the following inputs: \n",
    "1. Frequency, in Hertzs. \n",
    "2. Angle of attack, in degrees. \n",
    "3. Chord length, in meters. \n",
    "4. Free-stream velocity, in meters per second. \n",
    "5. Suction side displacement thickness, in meters. \n",
    "\n",
    "The only output is: \n",
    "6. Scaled sound pressure level, in decibels. \n",
    "\n",
    "https://archive.ics.uci.edu/ml/datasets/Airfoil+Self-Noise#"
   ]
  },
  {
   "cell_type": "markdown",
   "id": "2018709e",
   "metadata": {},
   "source": [
    "The main goal of this project, is to find the best regression model to predict the sound pressure level."
   ]
  },
  {
   "cell_type": "code",
   "execution_count": 34,
   "id": "946f0e91",
   "metadata": {
    "scrolled": true
   },
   "outputs": [],
   "source": [
    "import pandas as pd\n",
    "import numpy as np\n",
    "import matplotlib.pyplot as plt\n",
    "import seaborn as sns\n",
    "\n",
    "import statsmodels.api as sm\n",
    "import statsmodels.formula.api as smf\n",
    "\n",
    "from sklearn.linear_model import LinearRegression, Ridge, Lasso, RidgeCV, LassoCV\n",
    "from sklearn.model_selection import GridSearchCV\n",
    "from sklearn.preprocessing import StandardScaler\n",
    "from sklearn.pipeline import make_pipeline\n",
    "from sklearn.preprocessing import PolynomialFeatures\n",
    "from sklearn.model_selection import cross_val_score, train_test_split\n",
    "import sklearn.metrics as metrics\n",
    "import pickle\n",
    "\n",
    "import warnings\n",
    "warnings.filterwarnings('ignore')"
   ]
  },
  {
   "cell_type": "code",
   "execution_count": 35,
   "id": "82a2c993",
   "metadata": {},
   "outputs": [],
   "source": [
    "df = pd.read_csv('AirfoilSelfNoise.csv')"
   ]
  },
  {
   "cell_type": "code",
   "execution_count": 36,
   "id": "fc9f5717",
   "metadata": {},
   "outputs": [
    {
     "data": {
      "text/html": [
       "<div>\n",
       "<style scoped>\n",
       "    .dataframe tbody tr th:only-of-type {\n",
       "        vertical-align: middle;\n",
       "    }\n",
       "\n",
       "    .dataframe tbody tr th {\n",
       "        vertical-align: top;\n",
       "    }\n",
       "\n",
       "    .dataframe thead th {\n",
       "        text-align: right;\n",
       "    }\n",
       "</style>\n",
       "<table border=\"1\" class=\"dataframe\">\n",
       "  <thead>\n",
       "    <tr style=\"text-align: right;\">\n",
       "      <th></th>\n",
       "      <th>f</th>\n",
       "      <th>alpha</th>\n",
       "      <th>c</th>\n",
       "      <th>U_infinity</th>\n",
       "      <th>delta</th>\n",
       "      <th>SSPL</th>\n",
       "    </tr>\n",
       "  </thead>\n",
       "  <tbody>\n",
       "    <tr>\n",
       "      <th>0</th>\n",
       "      <td>800</td>\n",
       "      <td>0.0</td>\n",
       "      <td>0.3048</td>\n",
       "      <td>71.3</td>\n",
       "      <td>0.002663</td>\n",
       "      <td>126.201</td>\n",
       "    </tr>\n",
       "    <tr>\n",
       "      <th>1</th>\n",
       "      <td>1000</td>\n",
       "      <td>0.0</td>\n",
       "      <td>0.3048</td>\n",
       "      <td>71.3</td>\n",
       "      <td>0.002663</td>\n",
       "      <td>125.201</td>\n",
       "    </tr>\n",
       "    <tr>\n",
       "      <th>2</th>\n",
       "      <td>1250</td>\n",
       "      <td>0.0</td>\n",
       "      <td>0.3048</td>\n",
       "      <td>71.3</td>\n",
       "      <td>0.002663</td>\n",
       "      <td>125.951</td>\n",
       "    </tr>\n",
       "    <tr>\n",
       "      <th>3</th>\n",
       "      <td>1600</td>\n",
       "      <td>0.0</td>\n",
       "      <td>0.3048</td>\n",
       "      <td>71.3</td>\n",
       "      <td>0.002663</td>\n",
       "      <td>127.591</td>\n",
       "    </tr>\n",
       "    <tr>\n",
       "      <th>4</th>\n",
       "      <td>2000</td>\n",
       "      <td>0.0</td>\n",
       "      <td>0.3048</td>\n",
       "      <td>71.3</td>\n",
       "      <td>0.002663</td>\n",
       "      <td>127.461</td>\n",
       "    </tr>\n",
       "    <tr>\n",
       "      <th>...</th>\n",
       "      <td>...</td>\n",
       "      <td>...</td>\n",
       "      <td>...</td>\n",
       "      <td>...</td>\n",
       "      <td>...</td>\n",
       "      <td>...</td>\n",
       "    </tr>\n",
       "    <tr>\n",
       "      <th>1498</th>\n",
       "      <td>2500</td>\n",
       "      <td>15.6</td>\n",
       "      <td>0.1016</td>\n",
       "      <td>39.6</td>\n",
       "      <td>0.052849</td>\n",
       "      <td>110.264</td>\n",
       "    </tr>\n",
       "    <tr>\n",
       "      <th>1499</th>\n",
       "      <td>3150</td>\n",
       "      <td>15.6</td>\n",
       "      <td>0.1016</td>\n",
       "      <td>39.6</td>\n",
       "      <td>0.052849</td>\n",
       "      <td>109.254</td>\n",
       "    </tr>\n",
       "    <tr>\n",
       "      <th>1500</th>\n",
       "      <td>4000</td>\n",
       "      <td>15.6</td>\n",
       "      <td>0.1016</td>\n",
       "      <td>39.6</td>\n",
       "      <td>0.052849</td>\n",
       "      <td>106.604</td>\n",
       "    </tr>\n",
       "    <tr>\n",
       "      <th>1501</th>\n",
       "      <td>5000</td>\n",
       "      <td>15.6</td>\n",
       "      <td>0.1016</td>\n",
       "      <td>39.6</td>\n",
       "      <td>0.052849</td>\n",
       "      <td>106.224</td>\n",
       "    </tr>\n",
       "    <tr>\n",
       "      <th>1502</th>\n",
       "      <td>6300</td>\n",
       "      <td>15.6</td>\n",
       "      <td>0.1016</td>\n",
       "      <td>39.6</td>\n",
       "      <td>0.052849</td>\n",
       "      <td>104.204</td>\n",
       "    </tr>\n",
       "  </tbody>\n",
       "</table>\n",
       "<p>1503 rows × 6 columns</p>\n",
       "</div>"
      ],
      "text/plain": [
       "         f  alpha       c  U_infinity     delta     SSPL\n",
       "0      800    0.0  0.3048        71.3  0.002663  126.201\n",
       "1     1000    0.0  0.3048        71.3  0.002663  125.201\n",
       "2     1250    0.0  0.3048        71.3  0.002663  125.951\n",
       "3     1600    0.0  0.3048        71.3  0.002663  127.591\n",
       "4     2000    0.0  0.3048        71.3  0.002663  127.461\n",
       "...    ...    ...     ...         ...       ...      ...\n",
       "1498  2500   15.6  0.1016        39.6  0.052849  110.264\n",
       "1499  3150   15.6  0.1016        39.6  0.052849  109.254\n",
       "1500  4000   15.6  0.1016        39.6  0.052849  106.604\n",
       "1501  5000   15.6  0.1016        39.6  0.052849  106.224\n",
       "1502  6300   15.6  0.1016        39.6  0.052849  104.204\n",
       "\n",
       "[1503 rows x 6 columns]"
      ]
     },
     "execution_count": 36,
     "metadata": {},
     "output_type": "execute_result"
    }
   ],
   "source": [
    "df"
   ]
  },
  {
   "cell_type": "code",
   "execution_count": 37,
   "id": "6e942141",
   "metadata": {},
   "outputs": [
    {
     "name": "stdout",
     "output_type": "stream",
     "text": [
      "<class 'pandas.core.frame.DataFrame'>\n",
      "RangeIndex: 1503 entries, 0 to 1502\n",
      "Data columns (total 6 columns):\n",
      " #   Column      Non-Null Count  Dtype  \n",
      "---  ------      --------------  -----  \n",
      " 0   f           1503 non-null   int64  \n",
      " 1   alpha       1503 non-null   float64\n",
      " 2   c           1503 non-null   float64\n",
      " 3   U_infinity  1503 non-null   float64\n",
      " 4   delta       1503 non-null   float64\n",
      " 5   SSPL        1503 non-null   float64\n",
      "dtypes: float64(5), int64(1)\n",
      "memory usage: 70.6 KB\n"
     ]
    }
   ],
   "source": [
    "df.info()"
   ]
  },
  {
   "cell_type": "code",
   "execution_count": 38,
   "id": "ae3f86a1",
   "metadata": {},
   "outputs": [
    {
     "data": {
      "text/html": [
       "<div>\n",
       "<style scoped>\n",
       "    .dataframe tbody tr th:only-of-type {\n",
       "        vertical-align: middle;\n",
       "    }\n",
       "\n",
       "    .dataframe tbody tr th {\n",
       "        vertical-align: top;\n",
       "    }\n",
       "\n",
       "    .dataframe thead th {\n",
       "        text-align: right;\n",
       "    }\n",
       "</style>\n",
       "<table border=\"1\" class=\"dataframe\">\n",
       "  <thead>\n",
       "    <tr style=\"text-align: right;\">\n",
       "      <th></th>\n",
       "      <th>f</th>\n",
       "      <th>alpha</th>\n",
       "      <th>c</th>\n",
       "      <th>U_infinity</th>\n",
       "      <th>delta</th>\n",
       "      <th>SSPL</th>\n",
       "    </tr>\n",
       "  </thead>\n",
       "  <tbody>\n",
       "    <tr>\n",
       "      <th>count</th>\n",
       "      <td>1503.000000</td>\n",
       "      <td>1503.000000</td>\n",
       "      <td>1503.000000</td>\n",
       "      <td>1503.000000</td>\n",
       "      <td>1503.000000</td>\n",
       "      <td>1503.000000</td>\n",
       "    </tr>\n",
       "    <tr>\n",
       "      <th>mean</th>\n",
       "      <td>2886.380572</td>\n",
       "      <td>6.782302</td>\n",
       "      <td>0.136548</td>\n",
       "      <td>50.860745</td>\n",
       "      <td>0.011140</td>\n",
       "      <td>124.835943</td>\n",
       "    </tr>\n",
       "    <tr>\n",
       "      <th>std</th>\n",
       "      <td>3152.573137</td>\n",
       "      <td>5.918128</td>\n",
       "      <td>0.093541</td>\n",
       "      <td>15.572784</td>\n",
       "      <td>0.013150</td>\n",
       "      <td>6.898657</td>\n",
       "    </tr>\n",
       "    <tr>\n",
       "      <th>min</th>\n",
       "      <td>200.000000</td>\n",
       "      <td>0.000000</td>\n",
       "      <td>0.025400</td>\n",
       "      <td>31.700000</td>\n",
       "      <td>0.000401</td>\n",
       "      <td>103.380000</td>\n",
       "    </tr>\n",
       "    <tr>\n",
       "      <th>25%</th>\n",
       "      <td>800.000000</td>\n",
       "      <td>2.000000</td>\n",
       "      <td>0.050800</td>\n",
       "      <td>39.600000</td>\n",
       "      <td>0.002535</td>\n",
       "      <td>120.191000</td>\n",
       "    </tr>\n",
       "    <tr>\n",
       "      <th>50%</th>\n",
       "      <td>1600.000000</td>\n",
       "      <td>5.400000</td>\n",
       "      <td>0.101600</td>\n",
       "      <td>39.600000</td>\n",
       "      <td>0.004957</td>\n",
       "      <td>125.721000</td>\n",
       "    </tr>\n",
       "    <tr>\n",
       "      <th>75%</th>\n",
       "      <td>4000.000000</td>\n",
       "      <td>9.900000</td>\n",
       "      <td>0.228600</td>\n",
       "      <td>71.300000</td>\n",
       "      <td>0.015576</td>\n",
       "      <td>129.995500</td>\n",
       "    </tr>\n",
       "    <tr>\n",
       "      <th>max</th>\n",
       "      <td>20000.000000</td>\n",
       "      <td>22.200000</td>\n",
       "      <td>0.304800</td>\n",
       "      <td>71.300000</td>\n",
       "      <td>0.058411</td>\n",
       "      <td>140.987000</td>\n",
       "    </tr>\n",
       "  </tbody>\n",
       "</table>\n",
       "</div>"
      ],
      "text/plain": [
       "                  f        alpha            c   U_infinity        delta  \\\n",
       "count   1503.000000  1503.000000  1503.000000  1503.000000  1503.000000   \n",
       "mean    2886.380572     6.782302     0.136548    50.860745     0.011140   \n",
       "std     3152.573137     5.918128     0.093541    15.572784     0.013150   \n",
       "min      200.000000     0.000000     0.025400    31.700000     0.000401   \n",
       "25%      800.000000     2.000000     0.050800    39.600000     0.002535   \n",
       "50%     1600.000000     5.400000     0.101600    39.600000     0.004957   \n",
       "75%     4000.000000     9.900000     0.228600    71.300000     0.015576   \n",
       "max    20000.000000    22.200000     0.304800    71.300000     0.058411   \n",
       "\n",
       "              SSPL  \n",
       "count  1503.000000  \n",
       "mean    124.835943  \n",
       "std       6.898657  \n",
       "min     103.380000  \n",
       "25%     120.191000  \n",
       "50%     125.721000  \n",
       "75%     129.995500  \n",
       "max     140.987000  "
      ]
     },
     "execution_count": 38,
     "metadata": {},
     "output_type": "execute_result"
    }
   ],
   "source": [
    "df.describe()"
   ]
  },
  {
   "cell_type": "markdown",
   "id": "2d50e896",
   "metadata": {},
   "source": [
    "Let's check distribution of each variable"
   ]
  },
  {
   "cell_type": "code",
   "execution_count": 39,
   "id": "2c3ce2dd",
   "metadata": {},
   "outputs": [
    {
     "data": {
      "image/png": "[encoded data removed]",
      "text/plain": [
       "<Figure size 1200x800 with 6 Axes>"
      ]
     },
     "metadata": {},
     "output_type": "display_data"
    }
   ],
   "source": [
    "fig, axes = plt.subplots(figsize=(12,8),nrows=2, ncols=3)\n",
    "axes[0, 0].hist(df['f'])\n",
    "axes[0, 1].hist(df['alpha'])\n",
    "axes[0, 2].hist(df['c'])\n",
    "axes[1, 0].hist(df['U_infinity'])\n",
    "axes[1, 1].hist(df['delta'])\n",
    "axes[1, 2].hist(df['SSPL'])\n",
    "axes[0][0].set_title(\"Frequency\")\n",
    "axes[0][1].set_title(\"Angle of attack\")\n",
    "axes[0][2].set_title(\"Chord length\")\n",
    "axes[1][0].set_title(\"Free-stream velocity\")\n",
    "axes[1][1].set_title(\"Suction side displacement thickness\")\n",
    "axes[1][2].set_title(\"Scaled sound pressure level\")\n",
    "plt.show()"
   ]
  },
  {
   "cell_type": "markdown",
   "id": "add6cb1a",
   "metadata": {},
   "source": [
    "Let's chcek how each variable is correlated with target"
   ]
  },
  {
   "cell_type": "code",
   "execution_count": 40,
   "id": "48afd374",
   "metadata": {},
   "outputs": [
    {
     "data": {
      "image/png": "[encoded data removed]",
      "text/plain": [
       "<Figure size 1200x800 with 6 Axes>"
      ]
     },
     "metadata": {},
     "output_type": "display_data"
    }
   ],
   "source": [
    "fig, axes = plt.subplots(figsize=(12,8),nrows=2, ncols=3)\n",
    "axes[0, 0].scatter(df['f'], df['SSPL'])\n",
    "axes[0, 1].scatter(df['alpha'], df['SSPL'])\n",
    "axes[0, 2].scatter(df['c'], df['SSPL'])\n",
    "axes[1, 0].scatter(df['U_infinity'], df['SSPL'])\n",
    "axes[1, 1].scatter(df['delta'], df['SSPL'])\n",
    "axes[0][0].set_title(\"SSPL vs Frequency\")\n",
    "axes[0][1].set_title(\"SSPL vs Angle of attack\")\n",
    "axes[0][2].set_title(\"SSPL vs Chord length\")\n",
    "axes[1][0].set_title(\"SSPL vs Free-stream velocity\")\n",
    "axes[1][1].set_title(\"SSPL vs Suction side displacement thickness\")\n",
    "plt.show()"
   ]
  },
  {
   "cell_type": "markdown",
   "id": "506831fa",
   "metadata": {},
   "source": [
    "## Model for diagnosis"
   ]
  },
  {
   "cell_type": "code",
   "execution_count": 41,
   "id": "c432befe",
   "metadata": {},
   "outputs": [
    {
     "data": {
      "text/html": [
       "<table class=\"simpletable\">\n",
       "<caption>OLS Regression Results</caption>\n",
       "<tr>\n",
       "  <th>Dep. Variable:</th>          <td>SSPL</td>       <th>  R-squared:         </th> <td>   0.516</td> \n",
       "</tr>\n",
       "<tr>\n",
       "  <th>Model:</th>                   <td>OLS</td>       <th>  Adj. R-squared:    </th> <td>   0.514</td> \n",
       "</tr>\n",
       "<tr>\n",
       "  <th>Method:</th>             <td>Least Squares</td>  <th>  F-statistic:       </th> <td>   318.8</td> \n",
       "</tr>\n",
       "<tr>\n",
       "  <th>Date:</th>             <td>Thu, 14 Dec 2023</td> <th>  Prob (F-statistic):</th> <td>1.15e-232</td>\n",
       "</tr>\n",
       "<tr>\n",
       "  <th>Time:</th>                 <td>10:32:32</td>     <th>  Log-Likelihood:    </th> <td> -4490.1</td> \n",
       "</tr>\n",
       "<tr>\n",
       "  <th>No. Observations:</th>      <td>  1503</td>      <th>  AIC:               </th> <td>   8992.</td> \n",
       "</tr>\n",
       "<tr>\n",
       "  <th>Df Residuals:</th>          <td>  1497</td>      <th>  BIC:               </th> <td>   9024.</td> \n",
       "</tr>\n",
       "<tr>\n",
       "  <th>Df Model:</th>              <td>     5</td>      <th>                     </th>     <td> </td>    \n",
       "</tr>\n",
       "<tr>\n",
       "  <th>Covariance Type:</th>      <td>nonrobust</td>    <th>                     </th>     <td> </td>    \n",
       "</tr>\n",
       "</table>\n",
       "<table class=\"simpletable\">\n",
       "<tr>\n",
       "       <td></td>         <th>coef</th>     <th>std err</th>      <th>t</th>      <th>P>|t|</th>  <th>[0.025</th>    <th>0.975]</th>  \n",
       "</tr>\n",
       "<tr>\n",
       "  <th>Intercept</th>  <td>  132.8338</td> <td>    0.545</td> <td>  243.866</td> <td> 0.000</td> <td>  131.765</td> <td>  133.902</td>\n",
       "</tr>\n",
       "<tr>\n",
       "  <th>f</th>          <td>   -0.0013</td> <td> 4.21e-05</td> <td>  -30.452</td> <td> 0.000</td> <td>   -0.001</td> <td>   -0.001</td>\n",
       "</tr>\n",
       "<tr>\n",
       "  <th>alpha</th>      <td>   -0.4219</td> <td>    0.039</td> <td>  -10.847</td> <td> 0.000</td> <td>   -0.498</td> <td>   -0.346</td>\n",
       "</tr>\n",
       "<tr>\n",
       "  <th>c</th>          <td>  -35.6880</td> <td>    1.630</td> <td>  -21.889</td> <td> 0.000</td> <td>  -38.886</td> <td>  -32.490</td>\n",
       "</tr>\n",
       "<tr>\n",
       "  <th>U_infinity</th> <td>    0.0999</td> <td>    0.008</td> <td>   12.279</td> <td> 0.000</td> <td>    0.084</td> <td>    0.116</td>\n",
       "</tr>\n",
       "<tr>\n",
       "  <th>delta</th>      <td> -147.3005</td> <td>   15.015</td> <td>   -9.810</td> <td> 0.000</td> <td> -176.753</td> <td> -117.848</td>\n",
       "</tr>\n",
       "</table>\n",
       "<table class=\"simpletable\">\n",
       "<tr>\n",
       "  <th>Omnibus:</th>       <td>12.947</td> <th>  Durbin-Watson:     </th> <td>   0.447</td>\n",
       "</tr>\n",
       "<tr>\n",
       "  <th>Prob(Omnibus):</th> <td> 0.002</td> <th>  Jarque-Bera (JB):  </th> <td>  19.228</td>\n",
       "</tr>\n",
       "<tr>\n",
       "  <th>Skew:</th>          <td>-0.020</td> <th>  Prob(JB):          </th> <td>6.68e-05</td>\n",
       "</tr>\n",
       "<tr>\n",
       "  <th>Kurtosis:</th>      <td> 3.553</td> <th>  Cond. No.          </th> <td>5.18e+05</td>\n",
       "</tr>\n",
       "</table><br/><br/>Notes:<br/>[1] Standard Errors assume that the covariance matrix of the errors is correctly specified.<br/>[2] The condition number is large, 5.18e+05. This might indicate that there are<br/>strong multicollinearity or other numerical problems."
      ],
      "text/plain": [
       "<class 'statsmodels.iolib.summary.Summary'>\n",
       "\"\"\"\n",
       "                            OLS Regression Results                            \n",
       "==============================================================================\n",
       "Dep. Variable:                   SSPL   R-squared:                       0.516\n",
       "Model:                            OLS   Adj. R-squared:                  0.514\n",
       "Method:                 Least Squares   F-statistic:                     318.8\n",
       "Date:                Thu, 14 Dec 2023   Prob (F-statistic):          1.15e-232\n",
       "Time:                        10:32:32   Log-Likelihood:                -4490.1\n",
       "No. Observations:                1503   AIC:                             8992.\n",
       "Df Residuals:                    1497   BIC:                             9024.\n",
       "Df Model:                           5                                         \n",
       "Covariance Type:            nonrobust                                         \n",
       "==============================================================================\n",
       "                 coef    std err          t      P>|t|      [0.025      0.975]\n",
       "------------------------------------------------------------------------------\n",
       "Intercept    132.8338      0.545    243.866      0.000     131.765     133.902\n",
       "f             -0.0013   4.21e-05    -30.452      0.000      -0.001      -0.001\n",
       "alpha         -0.4219      0.039    -10.847      0.000      -0.498      -0.346\n",
       "c            -35.6880      1.630    -21.889      0.000     -38.886     -32.490\n",
       "U_infinity     0.0999      0.008     12.279      0.000       0.084       0.116\n",
       "delta       -147.3005     15.015     -9.810      0.000    -176.753    -117.848\n",
       "==============================================================================\n",
       "Omnibus:                       12.947   Durbin-Watson:                   0.447\n",
       "Prob(Omnibus):                  0.002   Jarque-Bera (JB):               19.228\n",
       "Skew:                          -0.020   Prob(JB):                     6.68e-05\n",
       "Kurtosis:                       3.553   Cond. No.                     5.18e+05\n",
       "==============================================================================\n",
       "\n",
       "Notes:\n",
       "[1] Standard Errors assume that the covariance matrix of the errors is correctly specified.\n",
       "[2] The condition number is large, 5.18e+05. This might indicate that there are\n",
       "strong multicollinearity or other numerical problems.\n",
       "\"\"\""
      ]
     },
     "execution_count": 41,
     "metadata": {},
     "output_type": "execute_result"
    }
   ],
   "source": [
    "columns = list(df.columns)\n",
    "columns.remove('SSPL')\n",
    "features = '+'.join(columns)\n",
    "model = smf.ols('SSPL~'+features, data=df).fit()\n",
    "model.summary()"
   ]
  },
  {
   "cell_type": "code",
   "execution_count": 42,
   "id": "288dbe1e",
   "metadata": {},
   "outputs": [
    {
     "name": "stdout",
     "output_type": "stream",
     "text": [
      "P-value for F test (Prob (F-statistic)): 1.1476339560359335e-232\n"
     ]
    }
   ],
   "source": [
    "print(\"P-value for F test (Prob (F-statistic)): {}\".format(model.f_pvalue))"
   ]
  },
  {
   "cell_type": "markdown",
   "id": "95262e93",
   "metadata": {},
   "source": [
    "P-value for Fstatistics is close to zero, so we reject the null hipotesis (H0). It means that at least one of the coefficients of the variables is non-zero, that is, at least one variable affects the SSPL.\n",
    "P-value for P>|t| for each feature is close to zero, which also means that each feature affects the SSPL."
   ]
  },
  {
   "cell_type": "markdown",
   "id": "83db9ea3",
   "metadata": {},
   "source": [
    "P-values for Omnibus and Jarque-Bera tests are also close to zero. It means that the residuals are not normally distributed. <br>\n",
    "Approximately 50% (R-squared) of the SSPL is explained by the given variables."
   ]
  },
  {
   "cell_type": "markdown",
   "id": "25a00159",
   "metadata": {},
   "source": [
    "## Modeling"
   ]
  },
  {
   "cell_type": "code",
   "execution_count": 43,
   "id": "abc5a9dd",
   "metadata": {},
   "outputs": [],
   "source": [
    "X = df.iloc[:,:5]\n",
    "y = df['SSPL']"
   ]
  },
  {
   "cell_type": "code",
   "execution_count": 44,
   "id": "65c4618b",
   "metadata": {},
   "outputs": [],
   "source": [
    "X_train, X_test, y_train, y_test = train_test_split(X, y, test_size=0.3, random_state=123)"
   ]
  },
  {
   "cell_type": "code",
   "execution_count": 45,
   "id": "38e29879",
   "metadata": {},
   "outputs": [],
   "source": [
    "def compute_metrics(model):\n",
    "\n",
    "    r2 = model.score(X_train, y_train)\n",
    "    fitted_values = model.predict(X_train)\n",
    "    mse_train = metrics.mean_squared_error(y_train, fitted_values)\n",
    "    mae_train = metrics.median_absolute_error(y_train, fitted_values)\n",
    "\n",
    "    y_pred = model.predict(X_test)\n",
    "    mse_test = metrics.mean_squared_error(y_test, y_pred)\n",
    "    mae_test = metrics.median_absolute_error(y_test, y_pred)\n",
    "    \n",
    "    return {\n",
    "        'r2': r2, 'mse_train': mse_train, 'mae_train': mae_train, 'mse_test': mse_test, 'mae_test': mae_test\n",
    "    }"
   ]
  },
  {
   "cell_type": "code",
   "execution_count": 46,
   "id": "76e7bc5d",
   "metadata": {},
   "outputs": [],
   "source": [
    "results = pd.DataFrame(index=['r2', 'mse_train', 'mae_train', 'mse_test', 'mae_test'])"
   ]
  },
  {
   "cell_type": "markdown",
   "id": "2d9c1a65",
   "metadata": {},
   "source": [
    "#### Baseline"
   ]
  },
  {
   "cell_type": "code",
   "execution_count": 47,
   "id": "2cc7578d",
   "metadata": {},
   "outputs": [
    {
     "data": {
      "text/html": [
       "<style>#sk-container-id-2 {color: black;background-color: white;}#sk-container-id-2 pre{padding: 0;}#sk-container-id-2 div.sk-toggleable {background-color: white;}#sk-container-id-2 label.sk-toggleable__label {cursor: pointer;display: block;width: 100%;margin-bottom: 0;padding: 0.3em;box-sizing: border-box;text-align: center;}#sk-container-id-2 label.sk-toggleable__label-arrow:before {content: \"▸\";float: left;margin-right: 0.25em;color: #696969;}#sk-container-id-2 label.sk-toggleable__label-arrow:hover:before {color: black;}#sk-container-id-2 div.sk-estimator:hover label.sk-toggleable__label-arrow:before {color: black;}#sk-container-id-2 div.sk-toggleable__content {max-height: 0;max-width: 0;overflow: hidden;text-align: left;background-color: #f0f8ff;}#sk-container-id-2 div.sk-toggleable__content pre {margin: 0.2em;color: black;border-radius: 0.25em;background-color: #f0f8ff;}#sk-container-id-2 input.sk-toggleable__control:checked~div.sk-toggleable__content {max-height: 200px;max-width: 100%;overflow: auto;}#sk-container-id-2 input.sk-toggleable__control:checked~label.sk-toggleable__label-arrow:before {content: \"▾\";}#sk-container-id-2 div.sk-estimator input.sk-toggleable__control:checked~label.sk-toggleable__label {background-color: #d4ebff;}#sk-container-id-2 div.sk-label input.sk-toggleable__control:checked~label.sk-toggleable__label {background-color: #d4ebff;}#sk-container-id-2 input.sk-hidden--visually {border: 0;clip: rect(1px 1px 1px 1px);clip: rect(1px, 1px, 1px, 1px);height: 1px;margin: -1px;overflow: hidden;padding: 0;position: absolute;width: 1px;}#sk-container-id-2 div.sk-estimator {font-family: monospace;background-color: #f0f8ff;border: 1px dotted black;border-radius: 0.25em;box-sizing: border-box;margin-bottom: 0.5em;}#sk-container-id-2 div.sk-estimator:hover {background-color: #d4ebff;}#sk-container-id-2 div.sk-parallel-item::after {content: \"\";width: 100%;border-bottom: 1px solid gray;flex-grow: 1;}#sk-container-id-2 div.sk-label:hover label.sk-toggleable__label {background-color: #d4ebff;}#sk-container-id-2 div.sk-serial::before {content: \"\";position: absolute;border-left: 1px solid gray;box-sizing: border-box;top: 0;bottom: 0;left: 50%;z-index: 0;}#sk-container-id-2 div.sk-serial {display: flex;flex-direction: column;align-items: center;background-color: white;padding-right: 0.2em;padding-left: 0.2em;position: relative;}#sk-container-id-2 div.sk-item {position: relative;z-index: 1;}#sk-container-id-2 div.sk-parallel {display: flex;align-items: stretch;justify-content: center;background-color: white;position: relative;}#sk-container-id-2 div.sk-item::before, #sk-container-id-2 div.sk-parallel-item::before {content: \"\";position: absolute;border-left: 1px solid gray;box-sizing: border-box;top: 0;bottom: 0;left: 50%;z-index: -1;}#sk-container-id-2 div.sk-parallel-item {display: flex;flex-direction: column;z-index: 1;position: relative;background-color: white;}#sk-container-id-2 div.sk-parallel-item:first-child::after {align-self: flex-end;width: 50%;}#sk-container-id-2 div.sk-parallel-item:last-child::after {align-self: flex-start;width: 50%;}#sk-container-id-2 div.sk-parallel-item:only-child::after {width: 0;}#sk-container-id-2 div.sk-dashed-wrapped {border: 1px dashed gray;margin: 0 0.4em 0.5em 0.4em;box-sizing: border-box;padding-bottom: 0.4em;background-color: white;}#sk-container-id-2 div.sk-label label {font-family: monospace;font-weight: bold;display: inline-block;line-height: 1.2em;}#sk-container-id-2 div.sk-label-container {text-align: center;}#sk-container-id-2 div.sk-container {/* jupyter's `normalize.less` sets `[hidden] { display: none; }` but bootstrap.min.css set `[hidden] { display: none !important; }` so we also need the `!important` here to be able to override the default hidden behavior on the sphinx rendered scikit-learn.org. See: https://github.com/scikit-learn/scikit-learn/issues/21755 */display: inline-block !important;position: relative;}#sk-container-id-2 div.sk-text-repr-fallback {display: none;}</style><div id=\"sk-container-id-2\" class=\"sk-top-container\"><div class=\"sk-text-repr-fallback\"><pre>LinearRegression()</pre><b>In a Jupyter environment, please rerun this cell to show the HTML representation or trust the notebook. <br />On GitHub, the HTML representation is unable to render, please try loading this page with nbviewer.org.</b></div><div class=\"sk-container\" hidden><div class=\"sk-item\"><div class=\"sk-estimator sk-toggleable\"><input class=\"sk-toggleable__control sk-hidden--visually\" id=\"sk-estimator-id-2\" type=\"checkbox\" checked><label for=\"sk-estimator-id-2\" class=\"sk-toggleable__label sk-toggleable__label-arrow\">LinearRegression</label><div class=\"sk-toggleable__content\"><pre>LinearRegression()</pre></div></div></div></div></div>"
      ],
      "text/plain": [
       "LinearRegression()"
      ]
     },
     "execution_count": 47,
     "metadata": {},
     "output_type": "execute_result"
    }
   ],
   "source": [
    "LR_baseline = LinearRegression()\n",
    "LR_baseline.fit(X=X_train, y=y_train)"
   ]
  },
  {
   "cell_type": "code",
   "execution_count": 48,
   "id": "04e30d34",
   "metadata": {},
   "outputs": [
    {
     "data": {
      "text/html": [
       "<div>\n",
       "<style scoped>\n",
       "    .dataframe tbody tr th:only-of-type {\n",
       "        vertical-align: middle;\n",
       "    }\n",
       "\n",
       "    .dataframe tbody tr th {\n",
       "        vertical-align: top;\n",
       "    }\n",
       "\n",
       "    .dataframe thead th {\n",
       "        text-align: right;\n",
       "    }\n",
       "</style>\n",
       "<table border=\"1\" class=\"dataframe\">\n",
       "  <thead>\n",
       "    <tr style=\"text-align: right;\">\n",
       "      <th></th>\n",
       "      <th>LinReg</th>\n",
       "    </tr>\n",
       "  </thead>\n",
       "  <tbody>\n",
       "    <tr>\n",
       "      <th>r2</th>\n",
       "      <td>0.514173</td>\n",
       "    </tr>\n",
       "    <tr>\n",
       "      <th>mse_train</th>\n",
       "      <td>22.467746</td>\n",
       "    </tr>\n",
       "    <tr>\n",
       "      <th>mae_train</th>\n",
       "      <td>2.875216</td>\n",
       "    </tr>\n",
       "    <tr>\n",
       "      <th>mse_test</th>\n",
       "      <td>24.390002</td>\n",
       "    </tr>\n",
       "    <tr>\n",
       "      <th>mae_test</th>\n",
       "      <td>3.261608</td>\n",
       "    </tr>\n",
       "  </tbody>\n",
       "</table>\n",
       "</div>"
      ],
      "text/plain": [
       "              LinReg\n",
       "r2          0.514173\n",
       "mse_train  22.467746\n",
       "mae_train   2.875216\n",
       "mse_test   24.390002\n",
       "mae_test    3.261608"
      ]
     },
     "execution_count": 48,
     "metadata": {},
     "output_type": "execute_result"
    }
   ],
   "source": [
    "results['LinReg'] = compute_metrics(LR_baseline).values()\n",
    "results"
   ]
  },
  {
   "cell_type": "markdown",
   "id": "73b879c8",
   "metadata": {},
   "source": [
    "#### Ridge"
   ]
  },
  {
   "cell_type": "code",
   "execution_count": 49,
   "id": "870f5d5e",
   "metadata": {},
   "outputs": [],
   "source": [
    "Ridge_model = make_pipeline(\n",
    "        StandardScaler(),\n",
    "        RidgeCV(alphas=np.arange(0.01, 100, 0.01), scoring='neg_median_absolute_error', cv=10)\n",
    "        )"
   ]
  },
  {
   "cell_type": "code",
   "execution_count": 50,
   "id": "f8dd047c",
   "metadata": {},
   "outputs": [],
   "source": [
    "fitted_ridge = Ridge_model.fit(X=X_train, y=y_train)"
   ]
  },
  {
   "cell_type": "code",
   "execution_count": 51,
   "id": "26468f20",
   "metadata": {},
   "outputs": [
    {
     "data": {
      "text/plain": [
       "9.69"
      ]
     },
     "execution_count": 51,
     "metadata": {},
     "output_type": "execute_result"
    }
   ],
   "source": [
    "fitted_ridge['ridgecv'].alpha_"
   ]
  },
  {
   "cell_type": "code",
   "execution_count": 52,
   "id": "ebfb4b82",
   "metadata": {},
   "outputs": [
    {
     "data": {
      "text/html": [
       "<div>\n",
       "<style scoped>\n",
       "    .dataframe tbody tr th:only-of-type {\n",
       "        vertical-align: middle;\n",
       "    }\n",
       "\n",
       "    .dataframe tbody tr th {\n",
       "        vertical-align: top;\n",
       "    }\n",
       "\n",
       "    .dataframe thead th {\n",
       "        text-align: right;\n",
       "    }\n",
       "</style>\n",
       "<table border=\"1\" class=\"dataframe\">\n",
       "  <thead>\n",
       "    <tr style=\"text-align: right;\">\n",
       "      <th></th>\n",
       "      <th>LinReg</th>\n",
       "      <th>Ridge(a=9.69)</th>\n",
       "    </tr>\n",
       "  </thead>\n",
       "  <tbody>\n",
       "    <tr>\n",
       "      <th>r2</th>\n",
       "      <td>0.514173</td>\n",
       "      <td>0.514034</td>\n",
       "    </tr>\n",
       "    <tr>\n",
       "      <th>mse_train</th>\n",
       "      <td>22.467746</td>\n",
       "      <td>22.474141</td>\n",
       "    </tr>\n",
       "    <tr>\n",
       "      <th>mae_train</th>\n",
       "      <td>2.875216</td>\n",
       "      <td>2.895367</td>\n",
       "    </tr>\n",
       "    <tr>\n",
       "      <th>mse_test</th>\n",
       "      <td>24.390002</td>\n",
       "      <td>24.409152</td>\n",
       "    </tr>\n",
       "    <tr>\n",
       "      <th>mae_test</th>\n",
       "      <td>3.261608</td>\n",
       "      <td>3.271553</td>\n",
       "    </tr>\n",
       "  </tbody>\n",
       "</table>\n",
       "</div>"
      ],
      "text/plain": [
       "              LinReg  Ridge(a=9.69)\n",
       "r2          0.514173       0.514034\n",
       "mse_train  22.467746      22.474141\n",
       "mae_train   2.875216       2.895367\n",
       "mse_test   24.390002      24.409152\n",
       "mae_test    3.261608       3.271553"
      ]
     },
     "execution_count": 52,
     "metadata": {},
     "output_type": "execute_result"
    }
   ],
   "source": [
    "results['Ridge(a=9.69)'] = compute_metrics(Ridge_model).values()\n",
    "results"
   ]
  },
  {
   "cell_type": "markdown",
   "id": "e2140456",
   "metadata": {},
   "source": [
    "#### Lasso"
   ]
  },
  {
   "cell_type": "code",
   "execution_count": 53,
   "id": "5a97f046",
   "metadata": {},
   "outputs": [],
   "source": [
    "Lasso_model = make_pipeline(\n",
    "        StandardScaler(),\n",
    "        Lasso()\n",
    "        )\n",
    "GridCV_lasso = GridSearchCV(\n",
    "        estimator=Lasso_model,\n",
    "        param_grid= {'lasso__alpha': [0.0001, 0.001, 0.01, 0.1, 1, 10, 100]},\n",
    "        scoring='neg_median_absolute_error',\n",
    "        cv=10\n",
    "        )"
   ]
  },
  {
   "cell_type": "code",
   "execution_count": 54,
   "id": "f040bf72",
   "metadata": {},
   "outputs": [],
   "source": [
    "fitted_lasso = GridCV_lasso.fit(X=X_train, y=y_train)"
   ]
  },
  {
   "cell_type": "code",
   "execution_count": 55,
   "id": "3628e4b2",
   "metadata": {},
   "outputs": [
    {
     "data": {
      "text/plain": [
       "{'lasso__alpha': 0.001}"
      ]
     },
     "execution_count": 55,
     "metadata": {},
     "output_type": "execute_result"
    }
   ],
   "source": [
    "fitted_lasso.best_params_"
   ]
  },
  {
   "cell_type": "code",
   "execution_count": 56,
   "id": "d1ac8328",
   "metadata": {},
   "outputs": [],
   "source": [
    "best_fitted_lasso = fitted_lasso.best_estimator_"
   ]
  },
  {
   "cell_type": "code",
   "execution_count": 57,
   "id": "9876dd3e",
   "metadata": {},
   "outputs": [],
   "source": [
    "results['Lasso(a=0.001)'] = compute_metrics(best_fitted_lasso).values()"
   ]
  },
  {
   "cell_type": "code",
   "execution_count": 58,
   "id": "22170257",
   "metadata": {},
   "outputs": [
    {
     "data": {
      "text/html": [
       "<div>\n",
       "<style scoped>\n",
       "    .dataframe tbody tr th:only-of-type {\n",
       "        vertical-align: middle;\n",
       "    }\n",
       "\n",
       "    .dataframe tbody tr th {\n",
       "        vertical-align: top;\n",
       "    }\n",
       "\n",
       "    .dataframe thead th {\n",
       "        text-align: right;\n",
       "    }\n",
       "</style>\n",
       "<table border=\"1\" class=\"dataframe\">\n",
       "  <thead>\n",
       "    <tr style=\"text-align: right;\">\n",
       "      <th></th>\n",
       "      <th>LinReg</th>\n",
       "      <th>Ridge(a=9.69)</th>\n",
       "      <th>Lasso(a=0.001)</th>\n",
       "    </tr>\n",
       "  </thead>\n",
       "  <tbody>\n",
       "    <tr>\n",
       "      <th>r2</th>\n",
       "      <td>0.514173</td>\n",
       "      <td>0.514034</td>\n",
       "      <td>0.514172</td>\n",
       "    </tr>\n",
       "    <tr>\n",
       "      <th>mse_train</th>\n",
       "      <td>22.467746</td>\n",
       "      <td>22.474141</td>\n",
       "      <td>22.467756</td>\n",
       "    </tr>\n",
       "    <tr>\n",
       "      <th>mae_train</th>\n",
       "      <td>2.875216</td>\n",
       "      <td>2.895367</td>\n",
       "      <td>2.876054</td>\n",
       "    </tr>\n",
       "    <tr>\n",
       "      <th>mse_test</th>\n",
       "      <td>24.390002</td>\n",
       "      <td>24.409152</td>\n",
       "      <td>24.390417</td>\n",
       "    </tr>\n",
       "    <tr>\n",
       "      <th>mae_test</th>\n",
       "      <td>3.261608</td>\n",
       "      <td>3.271553</td>\n",
       "      <td>3.263561</td>\n",
       "    </tr>\n",
       "  </tbody>\n",
       "</table>\n",
       "</div>"
      ],
      "text/plain": [
       "              LinReg  Ridge(a=9.69)  Lasso(a=0.001)\n",
       "r2          0.514173       0.514034        0.514172\n",
       "mse_train  22.467746      22.474141       22.467756\n",
       "mae_train   2.875216       2.895367        2.876054\n",
       "mse_test   24.390002      24.409152       24.390417\n",
       "mae_test    3.261608       3.271553        3.263561"
      ]
     },
     "execution_count": 58,
     "metadata": {},
     "output_type": "execute_result"
    }
   ],
   "source": [
    "results"
   ]
  },
  {
   "cell_type": "markdown",
   "id": "a1c97f48",
   "metadata": {},
   "source": [
    "#### Polynomial"
   ]
  },
  {
   "cell_type": "code",
   "execution_count": 59,
   "id": "ef347507",
   "metadata": {},
   "outputs": [],
   "source": [
    "Poly_model = make_pipeline(\n",
    "        PolynomialFeatures(),\n",
    "        LinearRegression())\n",
    "GridCV_Poly = GridSearchCV(\n",
    "        estimator=Poly_model,\n",
    "        param_grid={'polynomialfeatures__degree': np.arange(1, 10)},\n",
    "        scoring='neg_median_absolute_error',\n",
    "        cv=10)"
   ]
  },
  {
   "cell_type": "code",
   "execution_count": 60,
   "id": "4647bb0e",
   "metadata": {},
   "outputs": [],
   "source": [
    "fitted_poly = GridCV_Poly.fit(X=X_train, y=y_train)"
   ]
  },
  {
   "cell_type": "code",
   "execution_count": 61,
   "id": "84fc80e6",
   "metadata": {},
   "outputs": [
    {
     "data": {
      "text/plain": [
       "{'polynomialfeatures__degree': 4}"
      ]
     },
     "execution_count": 61,
     "metadata": {},
     "output_type": "execute_result"
    }
   ],
   "source": [
    "fitted_poly.best_params_"
   ]
  },
  {
   "cell_type": "code",
   "execution_count": 62,
   "id": "feabd58d",
   "metadata": {},
   "outputs": [],
   "source": [
    "best_fitted_poly = fitted_poly.best_estimator_"
   ]
  },
  {
   "cell_type": "code",
   "execution_count": 63,
   "id": "e95be585",
   "metadata": {},
   "outputs": [
    {
     "data": {
      "text/html": [
       "<div>\n",
       "<style scoped>\n",
       "    .dataframe tbody tr th:only-of-type {\n",
       "        vertical-align: middle;\n",
       "    }\n",
       "\n",
       "    .dataframe tbody tr th {\n",
       "        vertical-align: top;\n",
       "    }\n",
       "\n",
       "    .dataframe thead th {\n",
       "        text-align: right;\n",
       "    }\n",
       "</style>\n",
       "<table border=\"1\" class=\"dataframe\">\n",
       "  <thead>\n",
       "    <tr style=\"text-align: right;\">\n",
       "      <th></th>\n",
       "      <th>LinReg</th>\n",
       "      <th>Ridge(a=9.69)</th>\n",
       "      <th>Lasso(a=0.001)</th>\n",
       "      <th>Poly(n=4)</th>\n",
       "    </tr>\n",
       "  </thead>\n",
       "  <tbody>\n",
       "    <tr>\n",
       "      <th>r2</th>\n",
       "      <td>0.514173</td>\n",
       "      <td>0.514034</td>\n",
       "      <td>0.514172</td>\n",
       "      <td>0.780893</td>\n",
       "    </tr>\n",
       "    <tr>\n",
       "      <th>mse_train</th>\n",
       "      <td>22.467746</td>\n",
       "      <td>22.474141</td>\n",
       "      <td>22.467756</td>\n",
       "      <td>10.132887</td>\n",
       "    </tr>\n",
       "    <tr>\n",
       "      <th>mae_train</th>\n",
       "      <td>2.875216</td>\n",
       "      <td>2.895367</td>\n",
       "      <td>2.876054</td>\n",
       "      <td>1.883270</td>\n",
       "    </tr>\n",
       "    <tr>\n",
       "      <th>mse_test</th>\n",
       "      <td>24.390002</td>\n",
       "      <td>24.409152</td>\n",
       "      <td>24.390417</td>\n",
       "      <td>13.824966</td>\n",
       "    </tr>\n",
       "    <tr>\n",
       "      <th>mae_test</th>\n",
       "      <td>3.261608</td>\n",
       "      <td>3.271553</td>\n",
       "      <td>3.263561</td>\n",
       "      <td>2.156388</td>\n",
       "    </tr>\n",
       "  </tbody>\n",
       "</table>\n",
       "</div>"
      ],
      "text/plain": [
       "              LinReg  Ridge(a=9.69)  Lasso(a=0.001)  Poly(n=4)\n",
       "r2          0.514173       0.514034        0.514172   0.780893\n",
       "mse_train  22.467746      22.474141       22.467756  10.132887\n",
       "mae_train   2.875216       2.895367        2.876054   1.883270\n",
       "mse_test   24.390002      24.409152       24.390417  13.824966\n",
       "mae_test    3.261608       3.271553        3.263561   2.156388"
      ]
     },
     "execution_count": 63,
     "metadata": {},
     "output_type": "execute_result"
    }
   ],
   "source": [
    "results['Poly(n=4)'] = compute_metrics(best_fitted_poly).values()\n",
    "results"
   ]
  },
  {
   "cell_type": "markdown",
   "id": "f873ee5f",
   "metadata": {},
   "source": [
    "#### Polynomial & Ridge"
   ]
  },
  {
   "cell_type": "code",
   "execution_count": 64,
   "id": "ba20ba87",
   "metadata": {},
   "outputs": [],
   "source": [
    "poly_ridge = make_pipeline(\n",
    "            PolynomialFeatures(),\n",
    "            StandardScaler(),\n",
    "            Ridge()\n",
    "            )\n",
    "\n",
    "GridCV_p_r = GridSearchCV(\n",
    "            estimator=poly_ridge,\n",
    "            param_grid={'polynomialfeatures__degree': np.arange(1,5),\n",
    "                       'ridge__alpha': [0.001, 0.01, 0.1, 1, 10, 100]},\n",
    "            scoring='neg_median_absolute_error',\n",
    "            cv=5\n",
    "            )"
   ]
  },
  {
   "cell_type": "code",
   "execution_count": 65,
   "id": "f5d4361a",
   "metadata": {},
   "outputs": [],
   "source": [
    "fitted_GridCV_p_r = GridCV_p_r.fit(X=X_train, y=y_train)"
   ]
  },
  {
   "cell_type": "code",
   "execution_count": 66,
   "id": "c8008f91",
   "metadata": {},
   "outputs": [
    {
     "data": {
      "text/plain": [
       "{'polynomialfeatures__degree': 4, 'ridge__alpha': 0.001}"
      ]
     },
     "execution_count": 66,
     "metadata": {},
     "output_type": "execute_result"
    }
   ],
   "source": [
    "fitted_GridCV_p_r.best_params_"
   ]
  },
  {
   "cell_type": "code",
   "execution_count": 67,
   "id": "686a7368",
   "metadata": {},
   "outputs": [],
   "source": [
    "best_fitted_GridCV_p_r = fitted_GridCV_p_r.best_estimator_"
   ]
  },
  {
   "cell_type": "code",
   "execution_count": 68,
   "id": "e92afa7d",
   "metadata": {},
   "outputs": [
    {
     "data": {
      "text/html": [
       "<div>\n",
       "<style scoped>\n",
       "    .dataframe tbody tr th:only-of-type {\n",
       "        vertical-align: middle;\n",
       "    }\n",
       "\n",
       "    .dataframe tbody tr th {\n",
       "        vertical-align: top;\n",
       "    }\n",
       "\n",
       "    .dataframe thead th {\n",
       "        text-align: right;\n",
       "    }\n",
       "</style>\n",
       "<table border=\"1\" class=\"dataframe\">\n",
       "  <thead>\n",
       "    <tr style=\"text-align: right;\">\n",
       "      <th></th>\n",
       "      <th>LinReg</th>\n",
       "      <th>Ridge(a=9.69)</th>\n",
       "      <th>Lasso(a=0.001)</th>\n",
       "      <th>Poly(n=4)</th>\n",
       "      <th>Poly(n=4)&amp;Ridge(a=0.001)</th>\n",
       "    </tr>\n",
       "  </thead>\n",
       "  <tbody>\n",
       "    <tr>\n",
       "      <th>r2</th>\n",
       "      <td>0.514173</td>\n",
       "      <td>0.514034</td>\n",
       "      <td>0.514172</td>\n",
       "      <td>0.780893</td>\n",
       "      <td>0.851887</td>\n",
       "    </tr>\n",
       "    <tr>\n",
       "      <th>mse_train</th>\n",
       "      <td>22.467746</td>\n",
       "      <td>22.474141</td>\n",
       "      <td>22.467756</td>\n",
       "      <td>10.132887</td>\n",
       "      <td>6.849694</td>\n",
       "    </tr>\n",
       "    <tr>\n",
       "      <th>mae_train</th>\n",
       "      <td>2.875216</td>\n",
       "      <td>2.895367</td>\n",
       "      <td>2.876054</td>\n",
       "      <td>1.883270</td>\n",
       "      <td>1.500561</td>\n",
       "    </tr>\n",
       "    <tr>\n",
       "      <th>mse_test</th>\n",
       "      <td>24.390002</td>\n",
       "      <td>24.409152</td>\n",
       "      <td>24.390417</td>\n",
       "      <td>13.824966</td>\n",
       "      <td>9.124651</td>\n",
       "    </tr>\n",
       "    <tr>\n",
       "      <th>mae_test</th>\n",
       "      <td>3.261608</td>\n",
       "      <td>3.271553</td>\n",
       "      <td>3.263561</td>\n",
       "      <td>2.156388</td>\n",
       "      <td>1.824619</td>\n",
       "    </tr>\n",
       "  </tbody>\n",
       "</table>\n",
       "</div>"
      ],
      "text/plain": [
       "              LinReg  Ridge(a=9.69)  Lasso(a=0.001)  Poly(n=4)  \\\n",
       "r2          0.514173       0.514034        0.514172   0.780893   \n",
       "mse_train  22.467746      22.474141       22.467756  10.132887   \n",
       "mae_train   2.875216       2.895367        2.876054   1.883270   \n",
       "mse_test   24.390002      24.409152       24.390417  13.824966   \n",
       "mae_test    3.261608       3.271553        3.263561   2.156388   \n",
       "\n",
       "           Poly(n=4)&Ridge(a=0.001)  \n",
       "r2                         0.851887  \n",
       "mse_train                  6.849694  \n",
       "mae_train                  1.500561  \n",
       "mse_test                   9.124651  \n",
       "mae_test                   1.824619  "
      ]
     },
     "execution_count": 68,
     "metadata": {},
     "output_type": "execute_result"
    }
   ],
   "source": [
    "results['Poly(n=4)&Ridge(a=0.001)'] = compute_metrics(best_fitted_GridCV_p_r).values()\n",
    "results"
   ]
  },
  {
   "cell_type": "markdown",
   "id": "a70f9727",
   "metadata": {},
   "source": [
    "#### Polynomial & Lasso"
   ]
  },
  {
   "cell_type": "code",
   "execution_count": 69,
   "id": "f6537881",
   "metadata": {},
   "outputs": [],
   "source": [
    "poly_lasso = make_pipeline(\n",
    "            PolynomialFeatures(),\n",
    "            StandardScaler(),\n",
    "            Lasso()\n",
    "            )\n",
    "\n",
    "GridCV_p_l = GridSearchCV(\n",
    "            estimator=poly_lasso,\n",
    "            param_grid={'polynomialfeatures__degree': np.arange(1,5),\n",
    "                       'lasso__alpha': [0.001, 0.01, 0.1, 1, 10, 100]},\n",
    "            scoring='neg_median_absolute_error',\n",
    "            cv=5\n",
    "            )"
   ]
  },
  {
   "cell_type": "code",
   "execution_count": 70,
   "id": "dbedc294",
   "metadata": {
    "scrolled": true
   },
   "outputs": [],
   "source": [
    "fitted_GridCV_p_l =GridCV_p_l.fit(X=X_train, y=y_train)"
   ]
  },
  {
   "cell_type": "code",
   "execution_count": 71,
   "id": "e44e221a",
   "metadata": {},
   "outputs": [
    {
     "data": {
      "text/plain": [
       "{'lasso__alpha': 0.001, 'polynomialfeatures__degree': 4}"
      ]
     },
     "execution_count": 71,
     "metadata": {},
     "output_type": "execute_result"
    }
   ],
   "source": [
    "fitted_GridCV_p_l.best_params_"
   ]
  },
  {
   "cell_type": "code",
   "execution_count": 72,
   "id": "f99e7234",
   "metadata": {},
   "outputs": [],
   "source": [
    "best_fitted_GridCV_p_l = fitted_GridCV_p_l.best_estimator_"
   ]
  },
  {
   "cell_type": "code",
   "execution_count": 73,
   "id": "1804ca11",
   "metadata": {},
   "outputs": [
    {
     "data": {
      "text/html": [
       "<div>\n",
       "<style scoped>\n",
       "    .dataframe tbody tr th:only-of-type {\n",
       "        vertical-align: middle;\n",
       "    }\n",
       "\n",
       "    .dataframe tbody tr th {\n",
       "        vertical-align: top;\n",
       "    }\n",
       "\n",
       "    .dataframe thead th {\n",
       "        text-align: right;\n",
       "    }\n",
       "</style>\n",
       "<table border=\"1\" class=\"dataframe\">\n",
       "  <thead>\n",
       "    <tr style=\"text-align: right;\">\n",
       "      <th></th>\n",
       "      <th>LinReg</th>\n",
       "      <th>Ridge(a=9.69)</th>\n",
       "      <th>Lasso(a=0.001)</th>\n",
       "      <th>Poly(n=4)</th>\n",
       "      <th>Poly(n=4)&amp;Ridge(a=0.001)</th>\n",
       "      <th>Poly(n=4)&amp;Lasso(a=0.001)</th>\n",
       "    </tr>\n",
       "  </thead>\n",
       "  <tbody>\n",
       "    <tr>\n",
       "      <th>r2</th>\n",
       "      <td>0.514173</td>\n",
       "      <td>0.514034</td>\n",
       "      <td>0.514172</td>\n",
       "      <td>0.780893</td>\n",
       "      <td>0.851887</td>\n",
       "      <td>0.795512</td>\n",
       "    </tr>\n",
       "    <tr>\n",
       "      <th>mse_train</th>\n",
       "      <td>22.467746</td>\n",
       "      <td>22.474141</td>\n",
       "      <td>22.467756</td>\n",
       "      <td>10.132887</td>\n",
       "      <td>6.849694</td>\n",
       "      <td>9.456808</td>\n",
       "    </tr>\n",
       "    <tr>\n",
       "      <th>mae_train</th>\n",
       "      <td>2.875216</td>\n",
       "      <td>2.895367</td>\n",
       "      <td>2.876054</td>\n",
       "      <td>1.883270</td>\n",
       "      <td>1.500561</td>\n",
       "      <td>1.774542</td>\n",
       "    </tr>\n",
       "    <tr>\n",
       "      <th>mse_test</th>\n",
       "      <td>24.390002</td>\n",
       "      <td>24.409152</td>\n",
       "      <td>24.390417</td>\n",
       "      <td>13.824966</td>\n",
       "      <td>9.124651</td>\n",
       "      <td>11.572099</td>\n",
       "    </tr>\n",
       "    <tr>\n",
       "      <th>mae_test</th>\n",
       "      <td>3.261608</td>\n",
       "      <td>3.271553</td>\n",
       "      <td>3.263561</td>\n",
       "      <td>2.156388</td>\n",
       "      <td>1.824619</td>\n",
       "      <td>2.107247</td>\n",
       "    </tr>\n",
       "  </tbody>\n",
       "</table>\n",
       "</div>"
      ],
      "text/plain": [
       "              LinReg  Ridge(a=9.69)  Lasso(a=0.001)  Poly(n=4)  \\\n",
       "r2          0.514173       0.514034        0.514172   0.780893   \n",
       "mse_train  22.467746      22.474141       22.467756  10.132887   \n",
       "mae_train   2.875216       2.895367        2.876054   1.883270   \n",
       "mse_test   24.390002      24.409152       24.390417  13.824966   \n",
       "mae_test    3.261608       3.271553        3.263561   2.156388   \n",
       "\n",
       "           Poly(n=4)&Ridge(a=0.001)  Poly(n=4)&Lasso(a=0.001)  \n",
       "r2                         0.851887                  0.795512  \n",
       "mse_train                  6.849694                  9.456808  \n",
       "mae_train                  1.500561                  1.774542  \n",
       "mse_test                   9.124651                 11.572099  \n",
       "mae_test                   1.824619                  2.107247  "
      ]
     },
     "execution_count": 73,
     "metadata": {},
     "output_type": "execute_result"
    }
   ],
   "source": [
    "results['Poly(n=4)&Lasso(a=0.001)'] = compute_metrics(best_fitted_GridCV_p_l).values()\n",
    "results"
   ]
  },
  {
   "cell_type": "markdown",
   "id": "94621b58",
   "metadata": {},
   "source": [
    "Best model is Polynomial of 4 degree with Ridge regularization of alpha 0.001."
   ]
  },
  {
   "cell_type": "code",
   "execution_count": 74,
   "id": "3b54848a",
   "metadata": {},
   "outputs": [],
   "source": [
    "pickle.dump(fitted_GridCV_p_r, open('best_model.pkl', 'wb'))"
   ]
  }
 ],
 "metadata": {
  "kernelspec": {
   "display_name": "Python 3 (ipykernel)",
   "language": "python",
   "name": "python3"
  },
  "language_info": {
   "codemirror_mode": {
    "name": "ipython",
    "version": 3
   },
   "file_extension": ".py",
   "mimetype": "text/x-python",
   "name": "python",
   "nbconvert_exporter": "python",
   "pygments_lexer": "ipython3",
   "version": "3.10.8"
  }
 },
 "nbformat": 4,
 "nbformat_minor": 5
}
